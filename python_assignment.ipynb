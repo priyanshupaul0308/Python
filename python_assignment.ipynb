{
 "cells": [
  {
   "cell_type": "code",
   "execution_count": 2,
   "metadata": {},
   "outputs": [
    {
     "name": "stdout",
     "output_type": "stream",
     "text": [
      "the sum is :12.0 and the avg is :4.0\n"
     ]
    }
   ],
   "source": [
    "#1. Write a program in Python to find the addition & average of three float numbers.\n",
    "a=(float(input(\"enter the first number :\")))\n",
    "b=(float(input(\"enter the seccond number :\")))\n",
    "c=(float(input(\"enter the third number :\")))\n",
    "sum=(a+b+c)\n",
    "avg=sum/3\n",
    "print(f\"the sum is :{sum} and the avg is :{avg}\")\n",
    "\n",
    "#input:\n",
    "#a=3,b=4,c=5"
   ]
  },
  {
   "cell_type": "code",
   "execution_count": 4,
   "metadata": {},
   "outputs": [
    {
     "name": "stdout",
     "output_type": "stream",
     "text": [
      "the volume of the sphere is : 33.510321638291124\n"
     ]
    }
   ],
   "source": [
    "#2. Write a program in Python to find the volume of a sphere with radius  6cm.\n",
    "import math\n",
    "radius=int(input(\"enter the radius:\"))\n",
    "volume=(4/3)*math.pi*pow(radius,3)\n",
    "print(\"the volume of the sphere is :\",volume)\n",
    "\n",
    "# input:\n",
    "#radius=2 "
   ]
  },
  {
   "cell_type": "code",
   "execution_count": 5,
   "metadata": {},
   "outputs": [
    {
     "name": "stdout",
     "output_type": "stream",
     "text": [
      "the area of the circle is : 12.566370614359172\n"
     ]
    }
   ],
   "source": [
    "# 3. Write a program in Python to find the area of a circle.\n",
    "import math\n",
    "radius=int(input(\"enter the radius:\"))\n",
    "area=math.pi*pow(radius,2)\n",
    "print(\"the area of the circle is :\",area)\n",
    "\n",
    "#input:\n",
    "# radius=2"
   ]
  },
  {
   "cell_type": "code",
   "execution_count": 8,
   "metadata": {},
   "outputs": [
    {
     "name": "stdout",
     "output_type": "stream",
     "text": [
      "the simple interrest is : 72.0\n"
     ]
    }
   ],
   "source": [
    "#4. Write a program in Python to compute simple Interest.\n",
    "principle=int(input(\"enter the principle rate :\"))\n",
    "time=int(input(\"enter the time :\"))\n",
    "rate=float(input(\"enter the  rate :\"))\n",
    "simple_interest=(principle*time*rate)/100\n",
    "print(\"the simple interrest is :\",simple_interest)\n",
    "\n",
    "# input:\n",
    "#principle=1200 , time=3 , rate=2"
   ]
  },
  {
   "cell_type": "code",
   "execution_count": 11,
   "metadata": {},
   "outputs": [
    {
     "name": "stdout",
     "output_type": "stream",
     "text": [
      "a:4 b:3\n"
     ]
    }
   ],
   "source": [
    "#5. Write a program in Python to swap two numbers without using third variable\n",
    "a=(int(input(\"enter the first number :\")))\n",
    "b=(int(input(\"enter the seccond number :\")))\n",
    "a=a+b\n",
    "b=a-b\n",
    "a=a-b\n",
    "print(f\"a:{a} b:{b}\")\n",
    "\n",
    "#input:\n",
    "# a=3 ,b=4"
   ]
  },
  {
   "cell_type": "code",
   "execution_count": 12,
   "metadata": {},
   "outputs": [
    {
     "name": "stdout",
     "output_type": "stream",
     "text": [
      "the ferhenhite temp is: 73.4\n"
     ]
    }
   ],
   "source": [
    "#6. Write a program in Python to convert any temperature from Celcius to Fahrenheit. \n",
    "celcius=int(input(\"enter the celcius:\"))\n",
    "farhenhite=celcius*(9/5)+32\n",
    "print(\"the ferhenhite temp is:\",farhenhite)\n",
    "\n",
    "# input:\n",
    "# celcius=23"
   ]
  },
  {
   "cell_type": "code",
   "execution_count": 9,
   "metadata": {},
   "outputs": [
    {
     "name": "stdout",
     "output_type": "stream",
     "text": [
      "the year: 3 month:6 week:25 days:6\n"
     ]
    }
   ],
   "source": [
    "#7. Write a program in Python to convert a given number of days into days, month, year and week.\n",
    "no_days=int(input(\"enter the no. of days:\"))\n",
    "year=int(no_days/365)\n",
    "month=int((no_days-year*365)/30)\n",
    "week=int((no_days%365)/7)\n",
    "days=int((no_days%365)%7)\n",
    "print(f\"the year: {year} month:{month} week:{week} days:{days}\")\n",
    "\n",
    "#input:\n",
    "#no_days=1276"
   ]
  },
  {
   "cell_type": "code",
   "execution_count": 10,
   "metadata": {},
   "outputs": [
    {
     "name": "stdout",
     "output_type": "stream",
     "text": [
      "the gravitational force is:  1.66825e-11 N\n"
     ]
    }
   ],
   "source": [
    "#8. Write a Python Program to find the gravitational force acting between two objects.days\n",
    "# [G=N*(m1*m2)/d^2]\n",
    "m1=float(input(\"Enter the first mass: \"))\n",
    "m2=float(input(\"Enter the second mass: \"))\n",
    "r=float(input(\"Enter the distance between the centres of the masses: \"))\n",
    "G=6.673*(10**-11)\n",
    "f=(G*m1*m2)/(r**2)\n",
    "print(\"the gravitational force is: \",f,\"N\")\n",
    "\n",
    "#input:\n",
    "# m1=3 , m2=3 , r=6"
   ]
  },
  {
   "cell_type": "code",
   "execution_count": 4,
   "metadata": {},
   "outputs": [
    {
     "name": "stdout",
     "output_type": "stream",
     "text": [
      "the number is odd\n"
     ]
    }
   ],
   "source": [
    "#9. Write a program in Python to find given no is Even or Odd.\n",
    "a=int(input(\"enter the number:\"))\n",
    "if a%2==0:\n",
    "    print(\"the number is even \")\n",
    "else:\n",
    "    print(\"the number is odd\")\n",
    "\n",
    "#input:\n",
    "# a=3   "
   ]
  },
  {
   "cell_type": "code",
   "execution_count": 11,
   "metadata": {},
   "outputs": [
    {
     "name": "stdout",
     "output_type": "stream",
     "text": [
      "34.0\n"
     ]
    }
   ],
   "source": [
    "#10.Take input from user if it is greater than 15 print two times of difference if it’s less than 15 print four times of difference\n",
    "num1=(float(input(\"enter number: \")))\n",
    "if num1>15:\n",
    "    print((num1-15)*2)\n",
    "if num1<15:\n",
    "    print((15-num1)*4)\n",
    "if num1==15:\n",
    "    print(15)\n",
    "\n",
    "#input:\n",
    "#num1=32"
   ]
  },
  {
   "cell_type": "code",
   "execution_count": 12,
   "metadata": {},
   "outputs": [
    {
     "name": "stdout",
     "output_type": "stream",
     "text": [
      "the largest number is: 34\n"
     ]
    }
   ],
   "source": [
    "#11. Write a program in Python to find largest among three numbers.\n",
    "\n",
    "a=(int(input(\"enter the first number :\")))\n",
    "b=(int(input(\"enter the seccond number :\")))\n",
    "c=(int(input(\"enter the third number :\")))\n",
    "print(\"the largest number is:\",max(a,b,c))\n",
    "\n",
    "#input:\n",
    "# a=2 , b=34 , c=1\n"
   ]
  },
  {
   "cell_type": "code",
   "execution_count": 13,
   "metadata": {},
   "outputs": [
    {
     "name": "stdout",
     "output_type": "stream",
     "text": [
      "Isosceles Triangle\n"
     ]
    }
   ],
   "source": [
    "#12. Write a program in Python to check a triangle is equilateral,scalene or isosclees..\n",
    "\n",
    "x=(int(input(\"enter the first number :\")))\n",
    "y=(int(input(\"enter the seccond number :\")))\n",
    "z=(int(input(\"enter the third number :\")))\n",
    "\n",
    "\n",
    "if x == y == z:\n",
    "        print(\"Equilateral Triangle\")\n",
    " \n",
    "elif x == y or y == z or z == x:\n",
    "        print(\"Isosceles Triangle\")\n",
    "else:\n",
    "        print(\"Scalene Triangle\")\n",
    "\n",
    "# input:\n",
    "# x=3 ,y=3 ,z=5"
   ]
  },
  {
   "cell_type": "code",
   "execution_count": 14,
   "metadata": {},
   "outputs": [
    {
     "name": "stdout",
     "output_type": "stream",
     "text": [
      "2024 is a leap year.\n"
     ]
    }
   ],
   "source": [
    "#13. Write a program in Python to check a given year is leapyear or not.\n",
    "\n",
    "year=int(input(\"enter the year:\"))\n",
    "if year % 4 == 0:\n",
    "    if year % 100 == 0:\n",
    "        if year % 400 == 0:\n",
    "            print(f\"{year} is a leap year.\")\n",
    "        else:\n",
    "            print(f\"{year} is not a leap year.\")\n",
    "    else:\n",
    "        print(f\"{year} is a leap year.\")\n",
    "else:\n",
    "    print(f\"{year} is not a leap year.\")\n",
    "\n",
    "# input:\n",
    "# year=2024"
   ]
  },
  {
   "cell_type": "code",
   "execution_count": 57,
   "metadata": {},
   "outputs": [
    {
     "name": "stdout",
     "output_type": "stream",
     "text": [
      "Average marks: 70.25\n",
      "Grade: B\n"
     ]
    }
   ],
   "source": [
    "# 14.\tTake marks of a student of four different subject find average depending on average find Grade(if marks >=75 i.e,’A’ or >=60 but <=75 i.e,’B’ or >=40 but <=60 i.e,’C’ or <=40 i.e,’D’).\n",
    "\n",
    "marks1 = float(input(\"Enter marks for subject 1: \"))\n",
    "marks2 = float(input(\"Enter marks for subject 2: \"))\n",
    "marks3 = float(input(\"Enter marks for subject 3: \"))\n",
    "marks4 = float(input(\"Enter marks for subject 4: \"))\n",
    "\n",
    "average = (marks1 + marks2 + marks3 + marks4) / 4\n",
    "\n",
    "if average >= 75:\n",
    "    grade = 'A'\n",
    "elif 60 <= average < 75:\n",
    "    grade = 'B'\n",
    "elif 40 <= average < 60:\n",
    "    grade = 'C'\n",
    "else:\n",
    "    grade = 'D'\n",
    "\n",
    "print(f\"Average marks: {average}\")\n",
    "print(f\"Grade: {grade}\")\n",
    "\n",
    "#input:\n",
    "# marks1=45 , marks2=78 , marks3=90 , marks4=68\n"
   ]
  },
  {
   "cell_type": "code",
   "execution_count": 15,
   "metadata": {},
   "outputs": [
    {
     "name": "stdout",
     "output_type": "stream",
     "text": [
      "add : 30\n"
     ]
    }
   ],
   "source": [
    "#15. Write a program in Python to implement a simple calculator\n",
    "\n",
    "num1=int(input(\"enter the first  numeber:\"))\n",
    "num2=int(input(\"enter the second number:\"))\n",
    "c=input(\"enter the operation:\")\n",
    "if c == \"+\":\n",
    "    print(\"add :\",(num1+num2))\n",
    "elif c==\"-\" :\n",
    "    print(\"sub:\",(num1-num2))\n",
    "elif c==\"*\":\n",
    "    print(\"mul:\",(num1*num2))\n",
    "elif c==\"/\":\n",
    "    print(\"div:\",(num1/num2)) \n",
    "\n",
    "# input:\n",
    "# num1=10 , num2=20 , c=+"
   ]
  },
  {
   "cell_type": "code",
   "execution_count": 17,
   "metadata": {},
   "outputs": [
    {
     "name": "stdout",
     "output_type": "stream",
     "text": [
      "Equation:  3 x^2 +  4 x +  3\n",
      "The roots are imaginary. \n"
     ]
    }
   ],
   "source": [
    "#16. Write a program in Python to find the roots of Quadratic equation.\n",
    "a=int(input(\"Enter a: \"))\n",
    "b=int(input(\"Enter b: \"))\n",
    "c=int(input(\"Enter c: \"))\n",
    "print(\"Equation: \",a,\"x^2 + \",b,\"x + \",c )\n",
    "d=b**2-4*a*c\n",
    "d1=d**0.5\n",
    "if(d<0):\n",
    "    print(\"The roots are imaginary. \")\n",
    "else:\n",
    "    r1=(-b+d1)/2*a\n",
    "    r2=(-b-d1)/2*a\n",
    "    print(\"The first root: \",round(r1,2))\n",
    "    print(\"The second root: \",round(r2,2))\n",
    "\n",
    "# input:\n",
    "# a=3 , b=4 , c=3"
   ]
  },
  {
   "cell_type": "code",
   "execution_count": 18,
   "metadata": {},
   "outputs": [
    {
     "name": "stdout",
     "output_type": "stream",
     "text": [
      "1\n",
      "2\n",
      "3\n",
      "4\n",
      "5\n",
      "6\n",
      "7\n",
      "8\n",
      "9\n",
      "10\n",
      "11\n",
      "12\n"
     ]
    }
   ],
   "source": [
    "#17. Write a program in Python to print 1 to n.\n",
    "n=int(input(\"enter the number to print:\"))\n",
    "for i in range(1,n+1):\n",
    "    print(i)\n",
    "\n",
    "# input:\n",
    "# n=12"
   ]
  },
  {
   "cell_type": "code",
   "execution_count": 20,
   "metadata": {},
   "outputs": [
    {
     "name": "stdout",
     "output_type": "stream",
     "text": [
      "15\n"
     ]
    }
   ],
   "source": [
    "#18. Write a program in Python to print sum of natural number.\n",
    "n=int(input(\"enter the number to print:\"))\n",
    "sum=0\n",
    "for i in range(1,n+1):\n",
    "    sum=sum+i\n",
    "print(sum)  \n",
    "\n",
    "#input:\n",
    "# n=5"
   ]
  },
  {
   "cell_type": "code",
   "execution_count": 22,
   "metadata": {},
   "outputs": [
    {
     "name": "stdout",
     "output_type": "stream",
     "text": [
      "3\n"
     ]
    }
   ],
   "source": [
    "#19. Write a program in Python to print Sum of Digit.\n",
    "num=str(input(\"enter the number to print:\"))\n",
    "sum=0\n",
    "for i in num:\n",
    "    sum=sum+int(i)\n",
    "print(sum)    \n",
    "\n",
    "#input:\n",
    "# num=12"
   ]
  },
  {
   "cell_type": "code",
   "execution_count": 26,
   "metadata": {},
   "outputs": [
    {
     "name": "stdout",
     "output_type": "stream",
     "text": [
      "1\n",
      "5\n"
     ]
    }
   ],
   "source": [
    "#20. Write a program in Python to print Factors of a Number.\n",
    "x=int(input(\"enter the number to print:\"))\n",
    "for i in range(1, x + 1):\n",
    "       if x % i == 0:\n",
    "           print(i)\n",
    "\n",
    "#input:\n",
    "# x=5"
   ]
  },
  {
   "cell_type": "code",
   "execution_count": 27,
   "metadata": {},
   "outputs": [
    {
     "name": "stdout",
     "output_type": "stream",
     "text": [
      "Reversed Number: 4321\n"
     ]
    }
   ],
   "source": [
    "#21. Write a program in Python to print Reverse of a Number.\n",
    "\n",
    "num =int(input(\"enter the number to print:\"))\n",
    "reversed_num = 0\n",
    "\n",
    "while num != 0:\n",
    "    digit = num % 10\n",
    "    reversed_num = reversed_num * 10 + digit\n",
    "    num //= 10\n",
    "\n",
    "print(\"Reversed Number: \" + str(reversed_num))\n",
    "\n",
    "#input:\n",
    "# num=1234"
   ]
  },
  {
   "cell_type": "code",
   "execution_count": 28,
   "metadata": {},
   "outputs": [
    {
     "name": "stdout",
     "output_type": "stream",
     "text": [
      "120\n"
     ]
    }
   ],
   "source": [
    "\n",
    "#22. Write a Python program to find Factorial of a given number.\n",
    "import math\n",
    "num =int(input(\"enter the number to print:\"))\n",
    "print(math.factorial(num))\n",
    "\n",
    "# input:\n",
    "# num=5"
   ]
  },
  {
   "cell_type": "code",
   "execution_count": 29,
   "metadata": {},
   "outputs": [
    {
     "name": "stdout",
     "output_type": "stream",
     "text": [
      "The number is a palindrome!\n"
     ]
    }
   ],
   "source": [
    "#23. Write a Python program to check a number is palindrome or not.\n",
    "n=int(input(\"Enter number:\"))\n",
    "temp=n\n",
    "rev=0\n",
    "while(n>0):\n",
    "    dig=n%10\n",
    "    rev=rev*10+dig\n",
    "    n=n//10\n",
    "if(temp==rev):\n",
    "    print(\"The number is a palindrome!\")\n",
    "else:\n",
    "    print(\"The number isn't a palindrome!\")\n",
    "\n",
    "# input:\n",
    "# n=121"
   ]
  },
  {
   "cell_type": "code",
   "execution_count": 60,
   "metadata": {},
   "outputs": [
    {
     "name": "stdout",
     "output_type": "stream",
     "text": [
      "3 is a prime number\n"
     ]
    }
   ],
   "source": [
    "# 24.\tWrite a Python program to check a number is prime or not.\n",
    "\n",
    "num = int(input(\"Enter a number: \"))\n",
    "count = 0\n",
    "for i in range(1, num + 1):\n",
    "    if num % i == 0:\n",
    "        count += 1\n",
    "if count == 2:\n",
    "    print(f\"{num} is a prime number\")\n",
    "else:\n",
    "    print(f\"{num} is not a prime number\")"
   ]
  },
  {
   "cell_type": "code",
   "execution_count": 62,
   "metadata": {},
   "outputs": [
    {
     "name": "stdout",
     "output_type": "stream",
     "text": [
      "153 is an Armstrong number\n"
     ]
    }
   ],
   "source": [
    "# 25.Write a Python program to check a number is Armstrong or not\n",
    "num = int(input(\"Enter a number: \"))\n",
    "sum = 0\n",
    "temp = num\n",
    "while temp > 0:\n",
    "   digit = temp % 10\n",
    "   sum += digit ** 3\n",
    "   temp //= 10\n",
    "if num == sum:\n",
    "   print(num,\"is an Armstrong number\")\n",
    "else:\n",
    "   print(num,\"is not an Armstrong number\")\n",
    "\n"
   ]
  },
  {
   "cell_type": "code",
   "execution_count": 64,
   "metadata": {},
   "outputs": [
    {
     "name": "stdout",
     "output_type": "stream",
     "text": [
      "Fibonacci sequence:\n",
      "0\n",
      "1\n",
      "1\n",
      "2\n",
      "3\n",
      "5\n",
      "8\n",
      "13\n",
      "21\n",
      "34\n"
     ]
    }
   ],
   "source": [
    "# 26.\tWrite a Python program to print Fibonacci series of n term\n",
    "\n",
    "nterms = int(input(\"How many terms: \"))\n",
    "n1, n2 = 0, 1\n",
    "count = 0\n",
    "if nterms <= 0:\n",
    "   print(\"Please enter a positive integer\")\n",
    "elif nterms == 1:\n",
    "   print(\"Fibonacci sequence upto\",nterms,\":\")\n",
    "   print(n1)\n",
    "else:\n",
    "   print(\"Fibonacci sequence:\")\n",
    "   while count < nterms:\n",
    "       print(n1)\n",
    "       nth = n1 + n2\n",
    "       n1 = n2\n",
    "       n2 = nth\n",
    "       count += 1"
   ]
  },
  {
   "cell_type": "code",
   "execution_count": 30,
   "metadata": {},
   "outputs": [
    {
     "name": "stdout",
     "output_type": "stream",
     "text": [
      "5*1:5\n",
      "5*2:10\n",
      "5*3:15\n",
      "5*4:20\n",
      "5*5:25\n",
      "5*6:30\n",
      "5*7:35\n",
      "5*8:40\n",
      "5*9:45\n",
      "5*10:50\n"
     ]
    }
   ],
   "source": [
    "#27. Write a Python program to implement multiplication table.\n",
    "n=int(input(\"Enter number:\"))\n",
    "for i in range(1,11):\n",
    "    print(f\"{n}*{i}:{n*i}\")\n",
    "\n",
    "#input:\n",
    "# n=5"
   ]
  },
  {
   "cell_type": "code",
   "execution_count": 32,
   "metadata": {},
   "outputs": [
    {
     "name": "stdout",
     "output_type": "stream",
     "text": [
      "[1, 2, 3, 4]\n"
     ]
    }
   ],
   "source": [
    "#28. Write a Python program to take a input from user in a list and print it.\n",
    "lst = []\n",
    " \n",
    "n = int(input(\"Enter number of elements : \"))\n",
    " \n",
    "\n",
    "for i in range(0, n):\n",
    "    ele = int(input())\n",
    "  \n",
    "    lst.append(ele)  \n",
    " \n",
    "print(lst)\n",
    "\n",
    "# input:\n",
    "# n=4\n",
    "# 1,2,3,4"
   ]
  },
  {
   "cell_type": "code",
   "execution_count": 38,
   "metadata": {},
   "outputs": [
    {
     "name": "stdout",
     "output_type": "stream",
     "text": [
      "10 2.5\n"
     ]
    }
   ],
   "source": [
    "#29. Write a Python program to find the average of n numbers using list.\n",
    "\n",
    "lst=[1,2,3,4]\n",
    "sum=0\n",
    "for i in range(0,len(lst)):\n",
    "    sum=sum+lst[i]\n",
    "avg=sum/len(lst)\n",
    "print(sum,avg)"
   ]
  },
  {
   "cell_type": "code",
   "execution_count": 40,
   "metadata": {},
   "outputs": [
    {
     "name": "stdout",
     "output_type": "stream",
     "text": [
      "78\n"
     ]
    }
   ],
   "source": [
    "#30. Write a Python program to find the largest element in the list.\n",
    "L = [2,6,4,5,9,22,34,78]\n",
    "print(max(L))\n"
   ]
  },
  {
   "cell_type": "code",
   "execution_count": 45,
   "metadata": {},
   "outputs": [
    {
     "name": "stdout",
     "output_type": "stream",
     "text": [
      "Number found at index 3\n"
     ]
    }
   ],
   "source": [
    "#31.Write a Python program to perform Linear search.\n",
    "\n",
    "arr=[1,3,2,6,4,8]\n",
    "target = int(input(\"Enter the number you want to search : \"))\n",
    "found = False\n",
    "for i in range(len(arr)):\n",
    "    if arr[i] == target:\n",
    "        print(f\"Number found at index {i}\")\n",
    "        found = True\n",
    "        break\n",
    "\n",
    "if not found:\n",
    "    print(\"Number not found in the list\")\n"
   ]
  },
  {
   "cell_type": "code",
   "execution_count": 46,
   "metadata": {},
   "outputs": [
    {
     "name": "stdout",
     "output_type": "stream",
     "text": [
      "HELLO WORLD\n",
      "PRACTISE MAKES MAN PERFECT\n"
     ]
    }
   ],
   "source": [
    "# 32.\tWrite a program that accepts sequence of lines as input and prints the lines after making all characters in the sentence capitalized.\n",
    "# Suppose the following input is supplied to the program:\n",
    "# Hello world\n",
    "# Practice makes perfect\n",
    "# Then, the output should be:\n",
    "# HELLO WORLD\n",
    "# PRACTICE MAKES PERFECT\n",
    "\n",
    "lines = []\n",
    "while True:\n",
    "    line = input(\"Enter a line: \")\n",
    "    if line:  \n",
    "        lines.append(line.upper())  \n",
    "    else:\n",
    "        break  \n",
    "for line in lines:\n",
    "    print(line)\n",
    "\n",
    "#input:\n",
    "# Hello world\n",
    "# Practice makes perfect\n"
   ]
  },
  {
   "cell_type": "code",
   "execution_count": 48,
   "metadata": {},
   "outputs": [
    {
     "name": "stdout",
     "output_type": "stream",
     "text": [
      "List: ['34', '67', '55', '33', '12', '98']\n",
      "Tuple: ('34', '67', '55', '33', '12', '98')\n"
     ]
    }
   ],
   "source": [
    "# 33.\tWrite a program which accepts a sequence of comma‐separated numbers from console and generate a list and a tuple which contains every number.\n",
    "# Suppose the following input is supplied to the program:\n",
    "# 34,67,55,33,12,98\n",
    "# Then, the output should be:\n",
    "# ['34', '67', '55', '33', '12', '98']\n",
    "# ('34', '67', '55', '33', '12', '98') \n",
    "\n",
    "numbers = input(\"Enter comma separated numbers: \")\n",
    "number_list = numbers.split(\",\")\n",
    "number_tuple = tuple(number_list)\n",
    "\n",
    "print(\"List:\", number_list)\n",
    "print(\"Tuple:\", number_tuple)\n"
   ]
  },
  {
   "cell_type": "code",
   "execution_count": 56,
   "metadata": {},
   "outputs": [
    {
     "name": "stdout",
     "output_type": "stream",
     "text": [
      "Net amount: 500\n"
     ]
    }
   ],
   "source": [
    "# 34.\tWrite a program that computes the net amount of a bank account based a transaction log from console input. The transaction log format is shown as following:\n",
    "# D 100\n",
    "# W 200\n",
    "# ¡\n",
    "# D means deposit while W means withdrawal.\n",
    "# Suppose the following input is supplied to the program:\n",
    "# D 300\n",
    "# D 300\n",
    "# W 200\n",
    "# D 100\n",
    "# Then, the output should be:\n",
    "# 500\n",
    "\n",
    "net_amount = 0\n",
    "while True:\n",
    "    transaction = input(\"Enter transaction: \")\n",
    "    if not transaction:\n",
    "        break\n",
    "    trans_type, amount = transaction.split()\n",
    "    amount = int(amount)\n",
    "    if trans_type == 'D':\n",
    "        net_amount += amount\n",
    "    elif trans_type == 'W':\n",
    "        net_amount -= amount\n",
    "print(\"Net amount:\", net_amount)\n"
   ]
  }
 ],
 "metadata": {
  "kernelspec": {
   "display_name": "Python 3",
   "language": "python",
   "name": "python3"
  },
  "language_info": {
   "codemirror_mode": {
    "name": "ipython",
    "version": 3
   },
   "file_extension": ".py",
   "mimetype": "text/x-python",
   "name": "python",
   "nbconvert_exporter": "python",
   "pygments_lexer": "ipython3",
   "version": "3.12.5"
  }
 },
 "nbformat": 4,
 "nbformat_minor": 2
}
